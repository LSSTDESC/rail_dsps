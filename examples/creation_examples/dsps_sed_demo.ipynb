{
 "cells": [
  {
   "cell_type": "markdown",
   "source": [
    "### SingleSedModeler"
   ],
   "metadata": {
    "collapsed": false
   }
  },
  {
   "cell_type": "code",
   "execution_count": null,
   "outputs": [],
   "source": [
    "import os\n",
    "import rail_dsps\n",
    "from rail_dsps.src.rail.creation.engines.dsps_sed_modeler import DSPSSingleSedModeler\n",
    "from rail.core.stage import RailStage\n",
    "import numpy as np\n",
    "import h5py"
   ],
   "metadata": {
    "collapsed": false
   }
  },
  {
   "cell_type": "code",
   "execution_count": null,
   "outputs": [],
   "source": [
    "DS = RailStage.data_store\n",
    "DS.__class__.allow_overwrite = True\n",
    "from rail.core.data import TableHandle\n",
    "default_rail_fsps_files_folder = os.path.join(rail_dsps.__path__[1], 'src', 'rail', 'examples_data', 'creation_data',\n",
    "                                              'data', 'dsps_default_data')\n",
    "input_file = os.path.join(default_rail_fsps_files_folder, 'input_galaxy_properties_dsps.hdf5')"
   ],
   "metadata": {
    "collapsed": false
   }
  },
  {
   "cell_type": "code",
   "execution_count": null,
   "outputs": [],
   "source": [
    "n_galaxies = 10\n",
    "\n",
    "redshift = np.arange(0.1, 1.1, 0.1)\n",
    "\n",
    "gal_t_table = np.linspace(0.05, 13.8, 100) # age of the universe in Gyr\n",
    "gal_sfr_table = np.random.uniform(0, 10, gal_t_table.size) # SFR in Msun/yr\n",
    "\n",
    "gal_lgmet = -2.0 # log10(Z)\n",
    "gal_lgmet_scatter = 0.2 # lognormal scatter in the metallicity distribution function\n",
    "\n",
    "cosmic_time_grid = np.full((n_galaxies, len(gal_t_table)), gal_t_table)\n",
    "star_formation_history = np.full((n_galaxies, len(gal_sfr_table)), gal_sfr_table)\n",
    "stellar_metallicity = np.full(n_galaxies, gal_lgmet)\n",
    "stellar_metallicity_scatter = np.full(n_galaxies, gal_lgmet_scatter)\n",
    "\n",
    "with h5py.File(input_file, 'w') as h5table:\n",
    "    h5table.create_dataset(name='redshift', data=redshift)\n",
    "    h5table.create_dataset(name='cosmic_time_grid', data=cosmic_time_grid)\n",
    "    h5table.create_dataset(name='star_formation_history', data=star_formation_history)\n",
    "    h5table.create_dataset(name='stellar_metallicity', data=stellar_metallicity)\n",
    "    h5table.create_dataset(name='stellar_metallicity_scatter', data=stellar_metallicity_scatter)"
   ],
   "metadata": {
    "collapsed": false
   }
  },
  {
   "cell_type": "code",
   "execution_count": null,
   "outputs": [],
   "source": [
    "trainFile = os.path.join(input_file)\n",
    "training_data = DS.read_file(\"training_data\", TableHandle, trainFile)"
   ],
   "metadata": {
    "collapsed": false
   }
  },
  {
   "cell_type": "code",
   "execution_count": null,
   "outputs": [],
   "source": [
    "dspssinglesedmodeler = DSPSSingleSedModeler.make_stage(name='DSPSSingleSedModeler',\n",
    "                                                       ssp_templates_file=os.path.join(rail_dsps.__path__[0],\n",
    "                                                                                       'src/rail/examples_data/creation_data/data/dsps_default_data/ssp_data_fsps_v3.2_lgmet_age.h5'),\n",
    "                                                       redshift_key='redshift',\n",
    "                                                       cosmic_time_grid_key='cosmic_time_grid',\n",
    "                                                       star_formation_history_key='star_formation_history',\n",
    "                                                       stellar_metallicity_key='stellar_metallicity',\n",
    "                                                       stellar_metallicity_scatter_key='stellar_metallicity_scatter',\n",
    "                                                       restframe_sed_key='restframe_sed', default_cosmology=True)"
   ],
   "metadata": {
    "collapsed": false
   }
  },
  {
   "cell_type": "code",
   "execution_count": null,
   "outputs": [],
   "source": [
    "dspssinglesedmodel = dspssinglesedmodeler.fit_model(input_data=training_data)"
   ],
   "metadata": {
    "collapsed": false
   }
  },
  {
   "cell_type": "code",
   "execution_count": null,
   "outputs": [],
   "source": [
    "print(dspssinglesedmodel.data)"
   ],
   "metadata": {
    "collapsed": false
   }
  },
  {
   "cell_type": "markdown",
   "source": [
    "### PopulationSedModeler"
   ],
   "metadata": {
    "collapsed": false
   }
  },
  {
   "cell_type": "code",
   "execution_count": null,
   "outputs": [],
   "source": [
    "import os\n",
    "import rail_dsps\n",
    "from rail_dsps.src.rail.creation.engines.dsps_sed_modeler import DSPSPopulationSedModeler\n",
    "from rail.core.stage import RailStage\n",
    "import numpy as np\n",
    "import h5py"
   ],
   "metadata": {
    "collapsed": false
   }
  },
  {
   "cell_type": "code",
   "execution_count": null,
   "outputs": [],
   "source": [
    "DS = RailStage.data_store\n",
    "DS.__class__.allow_overwrite = True\n",
    "from rail.core.data import TableHandle\n",
    "default_rail_fsps_files_folder = os.path.join(rail_dsps.__path__[1], 'src', 'rail', 'examples_data', 'creation_data',\n",
    "                                              'data', 'dsps_default_data')\n",
    "input_file = os.path.join(default_rail_fsps_files_folder, 'input_galaxy_properties_dsps.hdf5')"
   ],
   "metadata": {
    "collapsed": false
   }
  },
  {
   "cell_type": "code",
   "execution_count": null,
   "outputs": [],
   "source": [
    "n_galaxies = 10\n",
    "\n",
    "redshift = np.arange(0.1, 1.1, 0.1)\n",
    "\n",
    "gal_t_table = np.linspace(0.05, 13.8, 100) # age of the universe in Gyr\n",
    "gal_sfr_table = np.random.uniform(0, 10, gal_t_table.size) # SFR in Msun/yr\n",
    "\n",
    "gal_lgmet = -2.0 # log10(Z)\n",
    "gal_lgmet_scatter = 0.2 # lognormal scatter in the metallicity distribution function\n",
    "\n",
    "cosmic_time_grid = np.full((n_galaxies, len(gal_t_table)), gal_t_table)\n",
    "star_formation_history = np.full((n_galaxies, len(gal_sfr_table)), gal_sfr_table)\n",
    "stellar_metallicity = np.full(n_galaxies, gal_lgmet)\n",
    "stellar_metallicity_scatter = np.full(n_galaxies, gal_lgmet_scatter)\n",
    "\n",
    "with h5py.File(input_file, 'w') as h5table:\n",
    "    h5table.create_dataset(name='redshift', data=redshift)\n",
    "    h5table.create_dataset(name='cosmic_time_grid', data=cosmic_time_grid)\n",
    "    h5table.create_dataset(name='star_formation_history', data=star_formation_history)\n",
    "    h5table.create_dataset(name='stellar_metallicity', data=stellar_metallicity)\n",
    "    h5table.create_dataset(name='stellar_metallicity_scatter', data=stellar_metallicity_scatter)"
   ],
   "metadata": {
    "collapsed": false
   }
  },
  {
   "cell_type": "code",
   "execution_count": null,
   "outputs": [],
   "source": [
    "trainFile = os.path.join(input_file)\n",
    "training_data = DS.read_file(\"training_data\", TableHandle, trainFile)"
   ],
   "metadata": {
    "collapsed": false
   }
  },
  {
   "cell_type": "code",
   "execution_count": null,
   "outputs": [],
   "source": [
    "dspspopulationsedmodeler = DSPSPopulationSedModeler.make_stage(name='DSPSPopulationSedModeler',\n",
    "                                                               ssp_templates_file=os.path.join(rail_dsps.__path__[0],'src/rail/examples_data/creation_data/data/dsps_default_data/ssp_data_fsps_v3.2_lgmet_age.h5'),\n",
    "                                                               redshift_key='redshift',\n",
    "                                                               cosmic_time_grid_key='cosmic_time_grid',\n",
    "                                                               star_formation_history_key='star_formation_history',\n",
    "                                                               stellar_metallicity_key='stellar_metallicity',\n",
    "                                                               stellar_metallicity_scatter_key='stellar_metallicity_scatter',\n",
    "                                                               restframe_sed_key='restframe_sed', default_cosmology=True)"
   ],
   "metadata": {
    "collapsed": false
   }
  },
  {
   "cell_type": "code",
   "execution_count": null,
   "outputs": [],
   "source": [
    "dspspopulationsedmodel = dspspopulationsedmodeler.fit_model(input_data=training_data)"
   ],
   "metadata": {
    "collapsed": false
   }
  },
  {
   "cell_type": "code",
   "execution_count": null,
   "outputs": [],
   "source": [
    "dspspopulationsedmodel.data"
   ],
   "metadata": {
    "collapsed": false
   }
  },
  {
   "cell_type": "markdown",
   "source": [
    "### DSPSPhotometryCreator"
   ],
   "metadata": {
    "collapsed": false
   }
  },
  {
   "cell_type": "code",
   "execution_count": null,
   "outputs": [],
   "source": [
    "import os\n",
    "import rail_dsps\n",
    "from rail_dsps.src.rail.creation.engines.dsps_photometry_creator import DSPSPhotometryCreator\n",
    "from rail.core.stage import RailStage"
   ],
   "metadata": {
    "collapsed": false
   }
  },
  {
   "cell_type": "code",
   "execution_count": null,
   "outputs": [],
   "source": [
    "DS = RailStage.data_store\n",
    "DS.__class__.allow_overwrite = True\n",
    "from rail.core.data import TableHandle\n",
    "default_rail_fsps_files_folder = os.path.join(rail_dsps.__path__[1], 'src', 'rail', 'examples_data', 'creation_data',\n",
    "                                              'data', 'dsps_default_data')\n",
    "input_file = os.path.join(default_rail_fsps_files_folder, 'model_DSPSPopulationSedModeler.hdf5')"
   ],
   "metadata": {
    "collapsed": false
   }
  },
  {
   "cell_type": "code",
   "execution_count": null,
   "outputs": [],
   "source": [
    "trainFile = os.path.join(input_file)\n",
    "training_data = DS.read_file(\"training_data\", TableHandle, trainFile)"
   ],
   "metadata": {
    "collapsed": false
   }
  },
  {
   "cell_type": "code",
   "execution_count": null,
   "outputs": [],
   "source": [
    "dspsphotometrycreator = DSPSPhotometryCreator.make_stage(name='DSPSPhotometryCreator',\n",
    "                                                         redshift_key='redshift',\n",
    "                                                         restframe_sed_key='restframe_sed',\n",
    "                                                         absolute_mags_key='rest_frame_absolute_mags',\n",
    "                                                         apparent_mags_key='apparent_mags',\n",
    "                                                         filter_folder=os.path.join(rail_dsps.__path__[0],\n",
    "                                                                                    'src/rail/examples_data/creation_data/data/dsps_default_data/filters'),\n",
    "                                                         instrument_name='lsst',\n",
    "                                                         wavebands='u,g,r,i,z,y',\n",
    "                                                         ssp_templates_file=os.path.join(rail_dsps.__path__[0],'src/rail/examples_data/creation_data/data/dsps_default_data/ssp_data_fsps_v3.2_lgmet_age.h5'),\n",
    "                                                         default_cosmology=True)"
   ],
   "metadata": {
    "collapsed": false
   }
  },
  {
   "cell_type": "code",
   "execution_count": null,
   "outputs": [],
   "source": [
    "dspsphotometry = dspsphotometrycreator.sample(input_data=training_data)"
   ],
   "metadata": {
    "collapsed": false
   }
  },
  {
   "cell_type": "code",
   "execution_count": null,
   "outputs": [],
   "source": [
    "dspsphotometry.data"
   ],
   "metadata": {
    "collapsed": false
   }
  }
 ],
 "metadata": {
  "kernelspec": {
   "display_name": "Python 3",
   "language": "python",
   "name": "python3"
  },
  "language_info": {
   "codemirror_mode": {
    "name": "ipython",
    "version": 2
   },
   "file_extension": ".py",
   "mimetype": "text/x-python",
   "name": "python",
   "nbconvert_exporter": "python",
   "pygments_lexer": "ipython2",
   "version": "2.7.6"
  }
 },
 "nbformat": 4,
 "nbformat_minor": 0
}
